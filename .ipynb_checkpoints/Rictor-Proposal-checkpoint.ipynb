{
 "cells": [
  {
   "cell_type": "markdown",
   "metadata": {},
   "source": [
    "$\\newcommand{\\xv}{\\mathbf{x}}\n",
    "\\newcommand{\\Xv}{\\mathbf{X}}\n",
    "\\newcommand{\\yv}{\\mathbf{y}}\n",
    "\\newcommand{\\zv}{\\mathbf{z}}\n",
    "\\newcommand{\\av}{\\mathbf{a}}\n",
    "\\newcommand{\\Wv}{\\mathbf{W}}\n",
    "\\newcommand{\\wv}{\\mathbf{w}}\n",
    "\\newcommand{\\tv}{\\mathbf{t}}\n",
    "\\newcommand{\\Tv}{\\mathbf{T}}\n",
    "\\newcommand{\\muv}{\\boldsymbol{\\mu}}\n",
    "\\newcommand{\\sigmav}{\\boldsymbol{\\sigma}}\n",
    "\\newcommand{\\phiv}{\\boldsymbol{\\phi}}\n",
    "\\newcommand{\\Phiv}{\\boldsymbol{\\Phi}}\n",
    "\\newcommand{\\Sigmav}{\\boldsymbol{\\Sigma}}\n",
    "\\newcommand{\\Lambdav}{\\boldsymbol{\\Lambda}}\n",
    "\\newcommand{\\half}{\\frac{1}{2}}\n",
    "\\newcommand{\\argmax}[1]{\\underset{#1}{\\operatorname{argmax}}}\n",
    "\\newcommand{\\argmin}[1]{\\underset{#1}{\\operatorname{argmin}}}$"
   ]
  },
  {
   "cell_type": "markdown",
   "metadata": {},
   "source": [
    "# Project Proposal for CS445, Spring, 2019"
   ]
  },
  {
   "cell_type": "markdown",
   "metadata": {},
   "source": [
    "Abigail Rictor"
   ]
  },
  {
   "cell_type": "markdown",
   "metadata": {},
   "source": [
    "## Introduction"
   ]
  },
  {
   "cell_type": "markdown",
   "metadata": {},
   "source": [
    "Your project may involve one or more than one of the following steps.\n",
    "\n",
    "  * Apply a neural network learning algorithm and implementation covered in class applied to a data set of interest to you.  Analyze the results, in terms of training and testing accuracy, data samples for which the neural network output is incorrect, and displays of activities and/or weights in hidden units to help understand how the neural network is making its decisions.\n",
    "  * Download code from the net that implements an algorithm covered in class or a new one, and apply it to data of interest to you.  Analyze the results, in terms of training and testing accuracy, data samples for which the neural network output is incorrect, and displays of activities and/or weights in hidden units to help understand how the neural network is making its decisions.\n",
    "  * Study at least five research articles from which you can learn about a machine learning topic of interest to you.  Your project will be a written report summarizing each article and describing similarities and differences between the papers, along with a detailed discussion of what you learned.\n"
   ]
  },
  {
   "cell_type": "markdown",
   "metadata": {},
   "source": [
    "## Methods"
   ]
  },
  {
   "cell_type": "markdown",
   "metadata": {},
   "source": [
    "Explain why you wish to do the proposed project and the steps you will need to take to complete the project. Describe the methods you will use.  What are the sources of code or data?  Will you define new algorithms and/or implementations, or use ones from class, or download ones from an on-line source?\n",
    "\n",
    "If you will be working with others, define exactly what each team member will be working on."
   ]
  },
  {
   "cell_type": "markdown",
   "metadata": {},
   "source": [
    "***\n",
    "I want to explore the potential for writing using machine learning. In Computer Science, I'm most interested in the ability of a computer to generate and understand natural language. I've spent time previously writing Markov algorithms for probabilistic text generation and applied that to the generation of poetry. I want to approach the same problem with machine learning and compare the results with attention to quality, form, and the types of mistakes made.\n",
    "\n",
    "I'm interested in training a recurrent neural network on a vast dataset of poetry I've already collected (10000+ poems scraped from poetryfoundation.org for a previous project). I found [this repository](https://github.com/albertlai431/Machine-Learning/tree/master/Text%20Generation) which executes a similar process, which will serve as the starting point for my project, but I will likely make my own modifications."
   ]
  },
  {
   "cell_type": "markdown",
   "metadata": {},
   "source": [
    "## Possible Results\n",
    "\n",
    "Speculate on possible answers to the questions you provide in the Introduction."
   ]
  },
  {
   "cell_type": "markdown",
   "metadata": {},
   "source": [
    "***\n",
    "I think a machine learning approach will produce, in most cases, much higher quality text. The scope allowed by this approach is further reaching than in a Markov approach (which only considers 2-3 words at a time) and I believe this will reduce repetition and some gramatical errors."
   ]
  },
  {
   "cell_type": "markdown",
   "metadata": {},
   "source": [
    "## Timeline\n",
    "\n",
    "Make a list with at least four entries with dates and describe what each team member will accomplish by these dates.  This is for your use.  Your grade will not depend on meeting these deadlines."
   ]
  },
  {
   "cell_type": "markdown",
   "metadata": {},
   "source": [
    "***\n",
    "* April 22, 2019: Return from Europe, begin development\n",
    "* April 25, 2019: complete dataset reformatting, ready to observe data run through (mostly) unchanged code \n",
    "* April 29, 2019: make changes to text generation function as needed\n",
    "* May 3, 2019: prepare examples from markov algorithm and rnn approach for report\n",
    "* May 8, 2019: complete and turn in report!\n"
   ]
  },
  {
   "cell_type": "markdown",
   "metadata": {},
   "source": [
    "## Check-in"
   ]
  },
  {
   "cell_type": "markdown",
   "metadata": {},
   "source": [
    "Do not include this section in your notebook.\n",
    "\n",
    "Name your notebook ```Lastname-proposal.ipynb```.  So, for me it would be ```Anderson-Proposal.ipynb```.  Submit the file using the ```Project Proposal``` link on [Canvas](https://colostate.instructure.com/courses/80879).\n",
    "\n",
    "Grading will be based on \n",
    "\n",
    "  * clarity of describing your motivation and methods,\n",
    "  * division of work among team members, if applicable.\n",
    "  \n",
    "The instructor may ask you to expand your project and resubmit your proposal."
   ]
  }
 ],
 "metadata": {
  "kernelspec": {
   "display_name": "Python 3",
   "language": "python",
   "name": "python3"
  },
  "language_info": {
   "codemirror_mode": {
    "name": "ipython",
    "version": 3
   },
   "file_extension": ".py",
   "mimetype": "text/x-python",
   "name": "python",
   "nbconvert_exporter": "python",
   "pygments_lexer": "ipython3",
   "version": "3.7.1"
  }
 },
 "nbformat": 4,
 "nbformat_minor": 1
}
