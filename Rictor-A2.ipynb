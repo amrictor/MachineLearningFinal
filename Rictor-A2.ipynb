{
 "cells": [
  {
   "cell_type": "markdown",
   "metadata": {},
   "source": [
    "$\\newcommand{\\xv}{\\mathbf{x}}\n",
    "\\newcommand{\\Xv}{\\mathbf{X}}\n",
    "\\newcommand{\\yv}{\\mathbf{y}}\n",
    "\\newcommand{\\Yv}{\\mathbf{Y}}\n",
    "\\newcommand{\\zv}{\\mathbf{z}}\n",
    "\\newcommand{\\av}{\\mathbf{a}}\n",
    "\\newcommand{\\Wv}{\\mathbf{W}}\n",
    "\\newcommand{\\wv}{\\mathbf{w}}\n",
    "\\newcommand{\\gv}{\\mathbf{g}}\n",
    "\\newcommand{\\Hv}{\\mathbf{H}}\n",
    "\\newcommand{\\dv}{\\mathbf{d}}\n",
    "\\newcommand{\\Vv}{\\mathbf{V}}\n",
    "\\newcommand{\\vv}{\\mathbf{v}}\n",
    "\\newcommand{\\tv}{\\mathbf{t}}\n",
    "\\newcommand{\\Tv}{\\mathbf{T}}\n",
    "\\newcommand{\\zv}{\\mathbf{z}}\n",
    "\\newcommand{\\Zv}{\\mathbf{Z}}\n",
    "\\newcommand{\\muv}{\\boldsymbol{\\mu}}\n",
    "\\newcommand{\\sigmav}{\\boldsymbol{\\sigma}}\n",
    "\\newcommand{\\phiv}{\\boldsymbol{\\phi}}\n",
    "\\newcommand{\\Phiv}{\\boldsymbol{\\Phi}}\n",
    "\\newcommand{\\Sigmav}{\\boldsymbol{\\Sigma}}\n",
    "\\newcommand{\\Lambdav}{\\boldsymbol{\\Lambda}}\n",
    "\\newcommand{\\half}{\\frac{1}{2}}\n",
    "\\newcommand{\\argmax}[1]{\\underset{#1}{\\operatorname{argmax}}}\n",
    "\\newcommand{\\argmin}[1]{\\underset{#1}{\\operatorname{argmin}}}\n",
    "\\newcommand{\\dimensionbar}[1]{\\underset{#1}{\\operatorname{|}}}\n",
    "$"
   ]
  },
  {
   "cell_type": "markdown",
   "metadata": {},
   "source": [
    "# A2 Adam vs SGD"
   ]
  },
  {
   "cell_type": "markdown",
   "metadata": {},
   "source": [
    "Abigail Rictor"
   ]
  },
  {
   "cell_type": "code",
   "execution_count": 1,
   "metadata": {},
   "outputs": [],
   "source": [
    "import numpy as np\n",
    "import matplotlib.pyplot as plt\n",
    "%matplotlib inline\n",
    "\n",
    "import IPython.display as ipd  # for display and clear_output\n",
    "import time  # for sleep"
   ]
  },
  {
   "cell_type": "markdown",
   "metadata": {},
   "source": [
    "Let's create a long vector of all of the weights in both layers.  Then we can define the weight matrix for each layer as views into this vector.  This allows us to take steps down the gradient of the error function by incrementing the whole weight vector.\n",
    "\n",
    "Spend a little time understanding the difference between numpy views and copies.  [Here is a good tutorial](http://www.jessicayung.com/numpy-views-vs-copies-avoiding-costly-mistakes/)."
   ]
  },
  {
   "cell_type": "code",
   "execution_count": 2,
   "metadata": {},
   "outputs": [],
   "source": [
    "def make_weights(shapes):\n",
    "    '''make_weights(shape): weights is list of pairs of (n_inputs, n_units) for each layer.\n",
    "    n_inputs includes the constant 1 input.\n",
    "    Returns weight vector w of all weights, and list of matrix views into w for each layer'''\n",
    "    # Make list of number of weights in each layer\n",
    "    n_weights_each_matrix = [sh[0] * sh[1] for sh in shapes]\n",
    "    # Total number of weights\n",
    "    n_weights = sum(n_weights_each_matrix)\n",
    "    # Allocate weight vector with component for each weight\n",
    "    w = np.zeros(n_weights)\n",
    "    # List Ws will be list of weight matrix views into w for each layer\n",
    "    Ws = make_views_on_weights(w, shapes)\n",
    "    return w, Ws    "
   ]
  },
  {
   "cell_type": "code",
   "execution_count": 3,
   "metadata": {},
   "outputs": [],
   "source": [
    "def make_views_on_weights(w, shapes):    \n",
    "    Ws = []\n",
    "    first = 0\n",
    "    for sh in shapes:\n",
    "        # Create new view of w[first:last]\n",
    "        last = first + sh[0] * sh[1]\n",
    "        # Create new view of w[first:last] as matrix W to be matrix for a layer\n",
    "        W = w[first:last].reshape(sh)\n",
    "        # Initialize weight values to small uniformly-distributed values\n",
    "        n_inputs = sh[0]\n",
    "        scale = 1.0 / np.sqrt(n_inputs)\n",
    "        W[:] = np.random.uniform(-scale, scale, size=sh)\n",
    "        # Add to list of W matrices, Ws.\n",
    "        Ws.append(W)\n",
    "        first = last\n",
    "    return Ws"
   ]
  },
  {
   "cell_type": "code",
   "execution_count": 4,
   "metadata": {},
   "outputs": [
    {
     "name": "stdout",
     "output_type": "stream",
     "text": [
      "w\n",
      " [ 0.39675016 -0.3571887   0.69474991 -0.28946352 -0.35505907 -0.0263303\n",
      " -0.03458548 -0.05931803  0.32868892  0.4272183  -0.26720863 -0.56647787\n",
      " -0.54335956  0.00345239  0.48151541 -0.24477155  0.64894793 -0.36087696\n",
      " -0.69324107  0.09934064  0.20000837  0.20301813  0.02072527 -0.09750033\n",
      " -0.295008    0.28621015 -0.14612745 -0.04207432  0.12301131 -0.2567274\n",
      "  0.28496374]\n",
      "V\n",
      " [[ 0.39675016 -0.3571887   0.69474991 -0.28946352 -0.35505907 -0.0263303\n",
      "  -0.03458548 -0.05931803  0.32868892  0.4272183 ]\n",
      " [-0.26720863 -0.56647787 -0.54335956  0.00345239  0.48151541 -0.24477155\n",
      "   0.64894793 -0.36087696 -0.69324107  0.09934064]]\n",
      "W\n",
      " [[ 0.20000837]\n",
      " [ 0.20301813]\n",
      " [ 0.02072527]\n",
      " [-0.09750033]\n",
      " [-0.295008  ]\n",
      " [ 0.28621015]\n",
      " [-0.14612745]\n",
      " [-0.04207432]\n",
      " [ 0.12301131]\n",
      " [-0.2567274 ]\n",
      " [ 0.28496374]]\n"
     ]
    }
   ],
   "source": [
    "# Set parameters of neural network\n",
    "nHiddens = 10\n",
    "nOutputs = 1\n",
    "\n",
    "# Initialize weights to uniformly distributed values between small normally-distributed between -0.1 and 0.1\n",
    "Vshape = (1 +1, nHiddens)\n",
    "Wshape = (nHiddens + 1, nOutputs)\n",
    "w, [V, W] = make_weights([Vshape, Wshape])\n",
    "\n",
    "print('w\\n', w)\n",
    "print('V\\n', V)\n",
    "print('W\\n', W)"
   ]
  },
  {
   "cell_type": "markdown",
   "metadata": {},
   "source": [
    "Now for some functions for calculating the output of our network, and for backpropagating the error to get a gradient of error with respect to all weights."
   ]
  },
  {
   "cell_type": "code",
   "execution_count": 5,
   "metadata": {},
   "outputs": [],
   "source": [
    "def forward(Ws, X1):\n",
    "    # Forward pass on training data\n",
    "    V, W = Ws\n",
    "    Z = np.tanh(X1 @ V)\n",
    "    Z1 = np.insert(Z, 0, 1, 1)\n",
    "    Y = Z1 @ W\n",
    "    return Z1, Y"
   ]
  },
  {
   "cell_type": "code",
   "execution_count": 6,
   "metadata": {},
   "outputs": [],
   "source": [
    "def backward(w, Ws, X1, Z1, T, error):\n",
    "    V, W = Ws\n",
    "    # Backward pass. \n",
    "    # Calculate the gradient of squared error with respect to all weights in w.\n",
    "    #   Order of in w is all hidden layer weights followed by all output layer weights,\n",
    "    #   so gradient values are ordered this way.\n",
    "    gradient =  np.hstack(((- X1.T @ ( ( error @ W[1:, :].T) * (1 - Z1[:, 1:]**2))).flat,  # for hidden layer\n",
    "                          (- Z1.T @ error).flat))  # for output layer\n",
    "    return gradient"
   ]
  },
  {
   "cell_type": "markdown",
   "metadata": {},
   "source": [
    "Given these functions, we can now define the stochastic gradient descent, `sgd`, procedure to update the weights."
   ]
  },
  {
   "cell_type": "code",
   "execution_count": 7,
   "metadata": {},
   "outputs": [],
   "source": [
    "def sgd_init():\n",
    "    pass\n",
    "\n",
    "def sgd(w, Ws, X1, T, learning_rate):\n",
    "    Z1, Y = forward(Ws, X1)\n",
    "\n",
    "    # Error in output\n",
    "    n_samples = X1.shape[0]\n",
    "    n_outputs = T.shape[1]\n",
    "    \n",
    "    error = (T - Y) / (n_samples + n_outputs)\n",
    "\n",
    "    gradient = backward(w, Ws, X1, Z1, T, error)\n",
    "   \n",
    "    # update values of w, in place. Don't need to return it.\n",
    "    \n",
    "    w -= learning_rate * gradient"
   ]
  },
  {
   "cell_type": "markdown",
   "metadata": {},
   "source": [
    "Here is another way to update the weights, the `adam` procedure.  See [this discussion](https://machinelearningmastery.com/adam-optimization-algorithm-for-deep-learning/) of Adam and other gradient descent methods."
   ]
  },
  {
   "cell_type": "code",
   "execution_count": 8,
   "metadata": {},
   "outputs": [],
   "source": [
    "grad_trace = 0\n",
    "grad_squared_trace = 0\n",
    "update_step = 0\n",
    "\n",
    "def adam_init():\n",
    "    global grad_trace, grad_squared_trace, update_step\n",
    "\n",
    "    grad_trace = 0\n",
    "    grad_squared_trace = 0\n",
    "    update_step = 0\n",
    "    \n",
    "def adam(w, Ws, X1, T, learning_rate):\n",
    "    global grad_trace, grad_squared_trace, update_step\n",
    "\n",
    "    beta1 = 0.9\n",
    "    beta2 = 0.999\n",
    "    epsilon = 1e-8\n",
    "\n",
    "    Z1, Y = forward(Ws, X1)\n",
    "\n",
    "    # Error in output\n",
    "    error = T - Y\n",
    "\n",
    "    gradient = backward(w, Ws, X1, Z1, T, error)\n",
    "    \n",
    "    # approximate first and second moment\n",
    "    grad_trace = beta1 * grad_trace + (1 - beta1) * gradient\n",
    "    grad_squared_trace = beta2 * grad_squared_trace + (1 - beta2) * np.square(gradient)\n",
    "    \n",
    "    # bias corrected moment estimates\n",
    "    grad_hat = grad_trace / (1 - beta1 ** (update_step + 1) )\n",
    "    grad_squared_hat = grad_squared_trace / (1 - beta2 ** (update_step + 1) )\n",
    "                \n",
    "    dw = grad_hat / (np.sqrt(grad_squared_hat) + epsilon)\n",
    "    \n",
    "    n_samples = X1.shape[0]\n",
    "    n_outputs = T.shape[1]\n",
    "    \n",
    "    # update values of w, in place. Don't need to return it.\n",
    "    w -= learning_rate / (n_samples + n_outputs) * dw\n",
    "    \n",
    "    update_step += 1"
   ]
  },
  {
   "cell_type": "markdown",
   "metadata": {},
   "source": [
    "Now, wrap these all together into a function to train a neural network given the training and testing data, the gradient descent function names, the batch size, the number of epochs, the learning rate, and the graphics update rate."
   ]
  },
  {
   "cell_type": "code",
   "execution_count": 9,
   "metadata": {},
   "outputs": [],
   "source": [
    "def train(Xtrain, Ttrain, Xtest, Ttest,\n",
    "          n_hiddens, \n",
    "          gradient_descent_method_init, gradient_descent_method, \n",
    "          batch_size, n_epochs, learning_rate, graphics_rate=0):\n",
    "\n",
    "    if graphics_rate > 0 and Xtrain.shape[1] > 1:\n",
    "        print('Graphics only works when X has one column (data has one input variable)')\n",
    "        print('Setting graphics_rate to 0')\n",
    "        graphics_rate = 0\n",
    "    \n",
    "    # Initialize weights to uniformly distributed values between small normally-distributed between -0.1 and 0.1\n",
    "    n_inputs = Xtrain.shape[1]\n",
    "    n_outputs = Ttrain.shape[1]\n",
    "    Vshape = (1 + n_inputs, n_hiddens)\n",
    "    Wshape = (1 + n_hiddens, n_outputs)\n",
    "    w, [V, W] = make_weights([Vshape, Wshape])\n",
    "\n",
    "    error_trace = np.zeros((n_epochs, 2))\n",
    "\n",
    "    if graphics_rate > 0:\n",
    "        fig = plt.figure(figsize=(12, 10))\n",
    "        \n",
    "    Xtrain1 = np.insert(Xtrain, 0, 1, 1)\n",
    "    Xtest1 = np.insert(Xtest, 0, 1, 1)\n",
    "    n_samples = Xtrain1.shape[0]\n",
    "        \n",
    "    gradient_descent_method_init()\n",
    "    \n",
    "    for epoch in range(n_epochs):\n",
    "\n",
    "        # gradient_descent_method_init()\n",
    "        \n",
    "        # Reorder samples\n",
    "        rows = np.arange(n_samples)\n",
    "        np.random.shuffle(rows)\n",
    "        \n",
    "        for first_n in range(0, n_samples, batch_size):\n",
    "            last_n = first_n + batch_size\n",
    "            rows_batch = rows[first_n:last_n]\n",
    "            Xtrain1_batch = Xtrain1[rows_batch, :]\n",
    "            Ttrain_batch = Ttrain[rows_batch, :]\n",
    "            # gradient_descent method changes values of w\n",
    "            gradient_descent_method(w, [V, W], Xtrain1_batch, Ttrain_batch, learning_rate)\n",
    "    \n",
    "        # error traces for plotting\n",
    "        Z1train, Ytrain = forward([V, W], Xtrain1)\n",
    "        error_trace[epoch, 0] = np.sqrt(np.mean(((Ttrain - Ytrain)**2)))\n",
    "    \n",
    "        Z1test, Ytest = forward([V, W], Xtest1)\n",
    "        error_trace[epoch, 1] = np.sqrt(np.mean((Ytest - Ttest)**2))\n",
    "\n",
    "        if graphics_rate > 0 and (epoch % graphics_rate == 0 or epoch == n_epochs - 1):\n",
    "            plt.clf()\n",
    "            plt.subplot(3, 1, 1)\n",
    "            plt.plot(error_trace[:epoch, :])\n",
    "            plt.ylim(0, 0.4)\n",
    "            plt.xlabel('Epoch')\n",
    "            plt.ylabel('RMSE')\n",
    "            plt.legend(('Train','Test'), loc='upper left')\n",
    "        \n",
    "            plt.subplot(3, 1, 2)\n",
    "            plt.plot(Xtrain, Ttrain, 'o-', Xtest, Ttest, 'o-', Xtrain, Ytrain, 'o-')\n",
    "            plt.xlim(-1, 1)\n",
    "            plt.ylim(-0.2, 1.6)\n",
    "            plt.legend(('Training', 'Testing', 'Model'), loc='upper left')\n",
    "            plt.xlabel('$x$')\n",
    "            plt.ylabel('Actual and Predicted $f(x)$')\n",
    "        \n",
    "            plt.subplot(3, 1, 3)\n",
    "            plt.plot(Xtrain, Z1train[:, 1:])  # Don't plot the constant 1 column\n",
    "            plt.ylim(-1.1, 1.1)\n",
    "            plt.xlabel('$x$')\n",
    "            plt.ylabel('Hidden Unit Outputs ($z$)');\n",
    "        \n",
    "            ipd.clear_output(wait=True)\n",
    "            ipd.display(fig)\n",
    "\n",
    "    ipd.clear_output(wait=True)\n",
    "\n",
    "    return Ytrain, Ytest, error_trace"
   ]
  },
  {
   "cell_type": "markdown",
   "metadata": {},
   "source": [
    "Here are some demonstrations."
   ]
  },
  {
   "cell_type": "code",
   "execution_count": 10,
   "metadata": {},
   "outputs": [],
   "source": [
    "# Make some training data\n",
    "n = 20\n",
    "Xtrain = np.linspace(0.,20.0,n).reshape((n,1)) - 10\n",
    "Ttrain = 0.2 + 0.05 * (Xtrain + 10) + 0.4 * np.sin(Xtrain + 10) + 0.2 * np.sin(Xtrain * 3) + 0.01 * np.random.normal(size=(n, 1))\n",
    "Xtrain = Xtrain / 10\n",
    "\n",
    "# Make some testing data\n",
    "n = n // 3\n",
    "Xtest = np.linspace(0, 20, n).reshape((-1, 1)) - 10\n",
    "Ttest = 0.2 + 0.05 * (Xtest + 10) + 0.2 * np.sin(Xtest + 10) +  0.1 * np.sin(Xtest * 3) + 0.01 * np.random.normal(size=(n, 1))\n",
    "Xtest = Xtest / 10"
   ]
  },
  {
   "cell_type": "code",
   "execution_count": 79,
   "metadata": {
    "scrolled": true
   },
   "outputs": [
    {
     "name": "stdout",
     "output_type": "stream",
     "text": [
      "Final RMSE nan\n"
     ]
    }
   ],
   "source": [
    "Ytrain, Ytest, error_trace = train(Xtrain, Ttrain, Xtest, Ttest, n_hiddens=20, \n",
    "                       gradient_descent_method_init=sgd_init, gradient_descent_method=sgd,\n",
    "                       batch_size=Xtrain.shape[0], n_epochs=200000, learning_rate=0.2, graphics_rate=5000)\n",
    "print('Final RMSE', np.sqrt(np.mean((Ttest - Ytest)**2)))"
   ]
  },
  {
   "cell_type": "code",
   "execution_count": null,
   "metadata": {},
   "outputs": [],
   "source": [
    "Ytrain, Ytest, error_trace = train(Xtrain, Ttrain, Xtest, Ttest, n_hiddens=20, \n",
    "                       gradient_descent_method_init=adam_init, gradient_descent_method=adam,\n",
    "                       batch_size=Xtrain.shape[0], n_epochs=100000, learning_rate=0.05, graphics_rate=5000)\n",
    "print('Final RMSE', np.sqrt(np.mean((Ttest - Ytest)**2)))"
   ]
  },
  {
   "cell_type": "code",
   "execution_count": 12,
   "metadata": {},
   "outputs": [
    {
     "name": "stdout",
     "output_type": "stream",
     "text": [
      "SGD 0.13628625267906064 Adam 0.13908045168516606\n"
     ]
    },
    {
     "data": {
      "image/png": "[encoded data removed]",
      "text/plain": [
       "<Figure size 432x288 with 1 Axes>"
      ]
     },
     "metadata": {
      "needs_background": "light"
     },
     "output_type": "display_data"
    }
   ],
   "source": [
    "n_samples = Xtrain.shape[0]\n",
    "\n",
    "_, _, error_trace_adam = train(Xtrain, Ttrain, Xtest, Ttest, n_hiddens=20, \n",
    "                       gradient_descent_method_init=adam_init, gradient_descent_method=adam,\n",
    "                       batch_size=n_samples, n_epochs=20000, learning_rate=0.01, graphics_rate=0)\n",
    "\n",
    "_, _, error_trace_sgd = train(Xtrain, Ttrain, Xtest, Ttest, n_hiddens=20, \n",
    "                       gradient_descent_method_init=sgd_init, gradient_descent_method=sgd,\n",
    "                       batch_size=n_samples, n_epochs=20000, learning_rate=0.01, graphics_rate=0)\n",
    "\n",
    "plt.plot(np.hstack((error_trace_sgd[:, 1:], error_trace_adam[:, 1:])))\n",
    "plt.legend(('SGD', 'Adam'))\n",
    "\n",
    "print('SGD', error_trace_sgd[-1, 1], 'Adam', error_trace_adam[-1, 1])"
   ]
  },
  {
   "cell_type": "markdown",
   "metadata": {},
   "source": [
    "# Search for Good Parameter Values on a New Data Set"
   ]
  },
  {
   "cell_type": "markdown",
   "metadata": {},
   "source": [
    "Now your work begins.  First, download this [Real Estate Valuation Data](https://archive.ics.uci.edu/ml/datasets/Real+estate+valuation+data+set) from the UCI machine learning repository. Read it in to python and form an input matrix `X` that contains six columns, and target matrix `T` of one column containing the house price of unit area.  This is easiest to do with the [pandas](https://pandas.pydata.org/) package.  Check out the [Getting Started](http://pandas.pydata.org/pandas-docs/stable/getting_started/10min.html) material at the pandas site.  Near the bottom of that page are some simple examples of how to use the `read_excel` pandas function.  Pretty handy since the Real Estate data is an `.xlsx` file.  Other helpful functions are the `drop` function that can be used to remove a column, such as the one labeled `No` in the data file, which is just an index that we should ignore, and `data.columns.tolist()` where `data` is a Dataframe.  Also note that a Dataframe can be converted to a `numpy` array by `npdata = np.array(data)` where `data` again is a Dataframe.\n",
    "\n",
    "We want to try to predict the target value from the six input values.\n",
    "\n",
    "Randomly partition the data into an 80% partition for training, making `Xtrain` and `Ttrain`, and a 20% partition for testing, makng `Xtest` and `Ttest`.\n",
    "\n",
    "Standardize the input `Xtrain` and `Xtest` matrices by subtracting by the column means and dividing by the column standard deviations, with the means and standard deviations determined only from the `Xtrain` matrix."
   ]
  },
  {
   "cell_type": "code",
   "execution_count": 13,
   "metadata": {},
   "outputs": [],
   "source": [
    "import pandas as pd\n",
    "import numpy as np"
   ]
  },
  {
   "cell_type": "code",
   "execution_count": 47,
   "metadata": {},
   "outputs": [],
   "source": [
    "def partition(data):\n",
    "    data_copy = np.random.permutation(data)\n",
    "    division_index = int(.8*len(data_copy))\n",
    "    training = data_copy[:division_index]\n",
    "    testing = data_copy[division_index:]               \n",
    "    return training, testing\n",
    "\n",
    "def separate_targets(data):\n",
    "    X = data[:, :data.shape[1]-1]\n",
    "    T = data[:,data.shape[1]-1:data.shape[1]]\n",
    "    return X, T"
   ]
  },
  {
   "cell_type": "code",
   "execution_count": 48,
   "metadata": {},
   "outputs": [],
   "source": [
    "data = pd.read_excel('data.xlsx', 'Sheet1', index_col=None, na_values=['NA']).drop(\"No\", axis=1)\n",
    "npdata = np.array(data)\n",
    "training, testing = partition(npdata)\n",
    "Xtrain, Ttrain = separate_targets(training)\n",
    "Xtest, Ttest = separate_targets(testing)"
   ]
  },
  {
   "cell_type": "markdown",
   "metadata": {},
   "source": [
    "Using the one-hidden layer neural network implemented here, train neural networks in two ways: one with SGD and one with Adam.  For each, try at least three values for each of the following parameters:\n",
    "\n",
    "  * number of hidden units, from 1 to 50,\n",
    "  * batch size,\n",
    "  * number of epochs\n",
    "  * learning_rate\n",
    "\n",
    "Create a table of results containing the algorithm name ('sgd' or 'adam'), the values of the above four parameters, and the RMSE on the training and testing data.  Since this is a mixed-type table, use the `pandas` package.  Sort your table by the test RMSE. \n",
    "\n",
    "Here are some clues on how to do this. To initialize a `pandas` Dataframe, called `results` do\n",
    "\n",
    "      import pandas as pd\n",
    "      \n",
    "      results = pd.DataFrame(columns=['Algorithm', 'Epochs', 'Learning Rate', 'Hidden Units', 'Batch Size', \n",
    "                                'RMSE Train', 'RMSE Test'])\n",
    "To add a row to this, do\n",
    "\n",
    "      results.loc[len(results)] = [algo, n_epochs, lr, nh, bs, rmse(Ytrain, Ttrain), rmse(Ytest, Ttest)]\n",
    "      \n",
    "assuming those variables have appropriate values.  Then, to sort `results` by `RMSE Test` and just see the top 50 entries, do\n",
    "\n",
    "      results.sort_values('RMSE Test').head(50)"
   ]
  },
  {
   "cell_type": "code",
   "execution_count": 16,
   "metadata": {},
   "outputs": [],
   "source": [
    "def rmse(Y, T):\n",
    "    return np.sqrt(np.mean((T - Y)**2))"
   ]
  },
  {
   "cell_type": "code",
   "execution_count": 50,
   "metadata": {},
   "outputs": [],
   "source": [
    "def run_parameters(Xtrain, Ttrain, Xtest, Ttest, epoch_list, learning_rate_list, hidden_unit_list, batch_size_list, verbose=False):\n",
    "    results = pd.DataFrame(columns=['Algorithm', 'Epochs', 'Learning Rate', 'Hidden Units', 'Batch Size', \n",
    "                            'RMSE Train', 'RMSE Test'])\n",
    "    for algorithm in ['adam', 'sgd']:\n",
    "        init = adam_init if algorithm is 'adam' else sgd_init\n",
    "        method = adam if algorithm is 'adam' else sgd\n",
    "        for epoch in epoch_list:\n",
    "            for learning_rate in learning_rate_list:\n",
    "                for hidden_units in hidden_unit_list:\n",
    "                    for batch_size in batch_size_list:\n",
    "                        Ytrain, Ytest, error_trace = train(Xtrain, Ttrain, Xtest, Ttest, n_hiddens=20, \n",
    "                                               gradient_descent_method_init=init, gradient_descent_method=method,\n",
    "                                               batch_size=batch_size, n_epochs=epoch, learning_rate=learning_rate, graphics_rate=0)\n",
    "                        results.loc[len(results)] = [algorithm, epoch, learning_rate, hidden_units, batch_size, rmse(Ytrain, Ttrain), rmse(Ytest, Ttest)]\n",
    "                    \n",
    "    return results"
   ]
  },
  {
   "cell_type": "code",
   "execution_count": 51,
   "metadata": {},
   "outputs": [],
   "source": [
    "data = np.loadtxt('machine.data', delimiter=',', usecols=range(2, 10))\n",
    "X = data[:, :-2]\n",
    "T = data[:, -2:-1]\n",
    "Xtrain = X[:160, :]\n",
    "Ttrain = T[:160, :]\n",
    "Xtest = X[160:, :]\n",
    "Ttest = T[160:, :]\n",
    "\n",
    "means = Xtrain.mean(0)\n",
    "stds = Xtrain.std(0)\n",
    "Xtrains = (Xtrain - means) / stds\n",
    "Xtests = (Xtest - means) / stds"
   ]
  },
  {
   "cell_type": "markdown",
   "metadata": {},
   "source": [
    "Put the above steps into a new function named `run_parameters` that accepts the arguments\n",
    "\n",
    "    * Xtrain, standardized\n",
    "    * Ttrain\n",
    "    * Xtest, standardized\n",
    "    * Ttest\n",
    "    * list of numbers of epochs\n",
    "    * list of learning rates\n",
    "    * list of numbers of hidden units\n",
    "    * list of batch sizes\n",
    "    * verbose, if True then print results of each parameter value combination\n",
    "\n",
    "and returns a pandas DataFrame containing the results of runs for all combinations of the above parameter values. The DataFrame must have columns titled `[Algorithm', 'Epochs', 'Learning Rate', 'Hidden Units', 'Batch Size', 'RMSE Train', 'RMSE Test']`.  So, if eac of the above lists contains two values, the resulting DataFrame must have 16 rows."
   ]
  },
  {
   "cell_type": "markdown",
   "metadata": {},
   "source": [
    "Describe your experiments, including how you decided on what values to test, and what the results tell you.  \n",
    "\n",
    "Extract the `RMSE test` values for all values of `Hidden Units` using the best values for the other parameters.  Here is an example of how to do this.\n",
    "\n",
    "    nh =results.loc[(results['Algorithm'] == 'adam') & (results['Epochs'] == 100) &\n",
    "                    (results['Learning Rate'] == 0.002) & (results['Batch Size'] == 1)]\n",
    "                    \n",
    "Now you can plot the training and testing RMSE versus the hidden units.  Describe what you see."
   ]
  },
  {
   "cell_type": "code",
   "execution_count": 84,
   "metadata": {},
   "outputs": [],
   "source": [
    "results = run_parameters(Xtrains, Ttrain, Xtests, Ttest, [100, 1000, 5000], [0.01, 0.05, .1], [1, 25, 50], [25, 50, 75], verbose=False)\n",
    "nh = results.loc[(results['Algorithm'] == 'adam') & (results['Epochs'] == 100) &\n",
    "                (results['Learning Rate'] == 0.001) & (results['Batch Size'] == 1)]"
   ]
  },
  {
   "cell_type": "markdown",
   "metadata": {},
   "source": [
    "I used the following values in my test run.\n",
    "\n",
    "epochs: 100, 500, 1000\n",
    "\n",
    "learning rates: .01, .05, .1 \n",
    "\n",
    "hidden units: 1, 25, 50\n",
    "\n",
    "batch sizes: 25, 50, 75\n",
    "\n",
    "My intention has been to gather data for a great range of potential values for each input, though my epoch counts are admittedly low (this is from a practical standpoint).\n",
    "\n",
    "Below are the ten best RMSE Test values from this run, showing 'sgd' as the prevailing algorithm in this context. There are also plots showing the RMSE Train (orange) and Test (green) values in comparison to the number of hidden units (blue) in a test with 1000 epochs, a batch size of 25, and a learning rate controlled values. I've included one for the sgd algorithm (top) and one for the adam algorithm (bottom)."
   ]
  },
  {
   "cell_type": "code",
   "execution_count": 86,
   "metadata": {},
   "outputs": [
    {
     "data": {
      "text/html": [
       "<div>\n",
       "<style scoped>\n",
       "    .dataframe tbody tr th:only-of-type {\n",
       "        vertical-align: middle;\n",
       "    }\n",
       "\n",
       "    .dataframe tbody tr th {\n",
       "        vertical-align: top;\n",
       "    }\n",
       "\n",
       "    .dataframe thead th {\n",
       "        text-align: right;\n",
       "    }\n",
       "</style>\n",
       "<table border=\"1\" class=\"dataframe\">\n",
       "  <thead>\n",
       "    <tr style=\"text-align: right;\">\n",
       "      <th></th>\n",
       "      <th>Algorithm</th>\n",
       "      <th>Epochs</th>\n",
       "      <th>Learning Rate</th>\n",
       "      <th>Hidden Units</th>\n",
       "      <th>Batch Size</th>\n",
       "      <th>RMSE Train</th>\n",
       "      <th>RMSE Test</th>\n",
       "    </tr>\n",
       "  </thead>\n",
       "  <tbody>\n",
       "    <tr>\n",
       "      <th>147</th>\n",
       "      <td>sgd</td>\n",
       "      <td>5000</td>\n",
       "      <td>0.05</td>\n",
       "      <td>25</td>\n",
       "      <td>25</td>\n",
       "      <td>63.993655</td>\n",
       "      <td>71.832304</td>\n",
       "    </tr>\n",
       "    <tr>\n",
       "      <th>145</th>\n",
       "      <td>sgd</td>\n",
       "      <td>5000</td>\n",
       "      <td>0.05</td>\n",
       "      <td>1</td>\n",
       "      <td>50</td>\n",
       "      <td>54.540165</td>\n",
       "      <td>97.332165</td>\n",
       "    </tr>\n",
       "    <tr>\n",
       "      <th>153</th>\n",
       "      <td>sgd</td>\n",
       "      <td>5000</td>\n",
       "      <td>0.10</td>\n",
       "      <td>1</td>\n",
       "      <td>25</td>\n",
       "      <td>58.821608</td>\n",
       "      <td>106.733553</td>\n",
       "    </tr>\n",
       "    <tr>\n",
       "      <th>128</th>\n",
       "      <td>sgd</td>\n",
       "      <td>1000</td>\n",
       "      <td>0.10</td>\n",
       "      <td>1</td>\n",
       "      <td>75</td>\n",
       "      <td>62.889458</td>\n",
       "      <td>113.785541</td>\n",
       "    </tr>\n",
       "    <tr>\n",
       "      <th>149</th>\n",
       "      <td>sgd</td>\n",
       "      <td>5000</td>\n",
       "      <td>0.05</td>\n",
       "      <td>25</td>\n",
       "      <td>75</td>\n",
       "      <td>73.160386</td>\n",
       "      <td>130.998412</td>\n",
       "    </tr>\n",
       "    <tr>\n",
       "      <th>91</th>\n",
       "      <td>sgd</td>\n",
       "      <td>100</td>\n",
       "      <td>0.05</td>\n",
       "      <td>1</td>\n",
       "      <td>50</td>\n",
       "      <td>75.256448</td>\n",
       "      <td>136.827544</td>\n",
       "    </tr>\n",
       "    <tr>\n",
       "      <th>89</th>\n",
       "      <td>sgd</td>\n",
       "      <td>100</td>\n",
       "      <td>0.01</td>\n",
       "      <td>50</td>\n",
       "      <td>75</td>\n",
       "      <td>72.019764</td>\n",
       "      <td>138.369906</td>\n",
       "    </tr>\n",
       "    <tr>\n",
       "      <th>138</th>\n",
       "      <td>sgd</td>\n",
       "      <td>5000</td>\n",
       "      <td>0.01</td>\n",
       "      <td>25</td>\n",
       "      <td>25</td>\n",
       "      <td>76.171356</td>\n",
       "      <td>140.245510</td>\n",
       "    </tr>\n",
       "    <tr>\n",
       "      <th>110</th>\n",
       "      <td>sgd</td>\n",
       "      <td>1000</td>\n",
       "      <td>0.01</td>\n",
       "      <td>1</td>\n",
       "      <td>75</td>\n",
       "      <td>68.443108</td>\n",
       "      <td>141.035347</td>\n",
       "    </tr>\n",
       "    <tr>\n",
       "      <th>86</th>\n",
       "      <td>sgd</td>\n",
       "      <td>100</td>\n",
       "      <td>0.01</td>\n",
       "      <td>25</td>\n",
       "      <td>75</td>\n",
       "      <td>72.866244</td>\n",
       "      <td>146.184433</td>\n",
       "    </tr>\n",
       "  </tbody>\n",
       "</table>\n",
       "</div>"
      ],
      "text/plain": [
       "    Algorithm Epochs  Learning Rate Hidden Units Batch Size  RMSE Train  \\\n",
       "147       sgd   5000           0.05           25         25   63.993655   \n",
       "145       sgd   5000           0.05            1         50   54.540165   \n",
       "153       sgd   5000           0.10            1         25   58.821608   \n",
       "128       sgd   1000           0.10            1         75   62.889458   \n",
       "149       sgd   5000           0.05           25         75   73.160386   \n",
       "91        sgd    100           0.05            1         50   75.256448   \n",
       "89        sgd    100           0.01           50         75   72.019764   \n",
       "138       sgd   5000           0.01           25         25   76.171356   \n",
       "110       sgd   1000           0.01            1         75   68.443108   \n",
       "86        sgd    100           0.01           25         75   72.866244   \n",
       "\n",
       "      RMSE Test  \n",
       "147   71.832304  \n",
       "145   97.332165  \n",
       "153  106.733553  \n",
       "128  113.785541  \n",
       "149  130.998412  \n",
       "91   136.827544  \n",
       "89   138.369906  \n",
       "138  140.245510  \n",
       "110  141.035347  \n",
       "86   146.184433  "
      ]
     },
     "execution_count": 86,
     "metadata": {},
     "output_type": "execute_result"
    },
    {
     "data": {
      "image/png": "[encoded data removed]",
      "text/plain": [
       "<Figure size 432x288 with 1 Axes>"
      ]
     },
     "metadata": {
      "needs_background": "light"
     },
     "output_type": "display_data"
    },
    {
     "data": {
      "image/png": "[encoded data removed]",
      "text/plain": [
       "<Figure size 432x288 with 1 Axes>"
      ]
     },
     "metadata": {
      "needs_background": "light"
     },
     "output_type": "display_data"
    }
   ],
   "source": [
    "sgd_nh = results.loc[(results['Algorithm'] == 'sgd') & (results['Epochs'] == 100) &\n",
    "                (results['Learning Rate'] == 0.05) & (results['Batch Size'] == 25)].drop(\"Epochs\", axis=1).drop(\"Batch Size\", axis=1).drop(\"Learning Rate\", axis=1)\n",
    "\n",
    "adam_nh = results.loc[(results['Algorithm'] == 'adam') & (results['Epochs'] == 100) &\n",
    "                (results['Learning Rate'] == 0.05) & (results['Batch Size'] == 25)].drop(\"Epochs\", axis=1).drop(\"Batch Size\", axis=1).drop(\"Learning Rate\", axis=1)\n",
    "\n",
    "sgd_nh.plot(title=\"SGD\")\n",
    "\n",
    "adam_nh.plot(title=\"ADAM\")\n",
    "\n",
    "results.sort_values('RMSE Test').head(10)"
   ]
  },
  {
   "cell_type": "markdown",
   "metadata": {},
   "source": [
    "The data above shows sgd to have more accurate results, and that those results are more accurate at the midpoint of possible hidden units values (25). This reflects what I know about the adam optimization algorithm, showing that using fewer epochs, sgd can be as effective or moreso (as seen here) than the optimization, which allows more effective training relative to the number of epochs, unlike sgd which flattens out at an earlier point."
   ]
  },
  {
   "cell_type": "markdown",
   "metadata": {},
   "source": [
    "## Grading"
   ]
  },
  {
   "cell_type": "markdown",
   "metadata": {},
   "source": [
    "Download [A2grader.tar](http://www.cs.colostate.edu/~anderson/cs445/notebooks/A2grader.tar) and extract `A2grader.py` from it. Run the code in the following cell to demonstrate an example grading session.  You should see a perfect execution score of 90 out of 90 points if your functions are defined correctly. The remaining 10 points will be based on the results you obtain from the energy data and on your discussions.\n",
    "\n",
    "For the grading script to run correctly, you must first name this notebook as 'Lastname-A2.ipynb' with 'Lastname' being your last name, and then save this notebook.\n",
    "\n",
    "A different, but similar, grading script will be used to grade your checked-in notebook.  It will include additional tests.  You need not include code to test that the values passed in to your functions are the correct form."
   ]
  },
  {
   "cell_type": "code",
   "execution_count": 81,
   "metadata": {},
   "outputs": [
    {
     "name": "stdout",
     "output_type": "stream",
     "text": [
      "   Algorithm Epochs  Learning Rate Hidden Units Batch Size  RMSE Train  \\\n",
      "0       adam     10          0.001            5          1  168.967265   \n",
      "1       adam     10          0.001            5         50  172.501939   \n",
      "2       adam     10          0.001           10          1  169.048043   \n",
      "3       adam     10          0.001           10         50  172.682357   \n",
      "4       adam     10          0.010            5          1  141.247677   \n",
      "5       adam     10          0.010            5         50  172.689262   \n",
      "6       adam     10          0.010           10          1  140.833241   \n",
      "7       adam     10          0.010           10         50  172.667873   \n",
      "8       adam    100          0.001            5          1  141.067645   \n",
      "9       adam    100          0.001            5         50  172.605579   \n",
      "10      adam    100          0.001           10          1  140.985064   \n",
      "11      adam    100          0.001           10         50  172.467506   \n",
      "12      adam    100          0.010            5          1   72.842752   \n",
      "13      adam    100          0.010            5         50  171.325213   \n",
      "14      adam    100          0.010           10          1   72.656818   \n",
      "15      adam    100          0.010           10         50  171.612907   \n",
      "16       sgd     10          0.001            5          1   77.218358   \n",
      "17       sgd     10          0.001            5         50  149.307192   \n",
      "18       sgd     10          0.001           10          1   86.713141   \n",
      "19       sgd     10          0.001           10         50  151.766255   \n",
      "20       sgd     10          0.010            5          1  107.810627   \n",
      "21       sgd     10          0.010            5         50   95.218795   \n",
      "22       sgd     10          0.010           10          1   84.388859   \n",
      "23       sgd     10          0.010           10         50   97.108064   \n",
      "24       sgd    100          0.001            5          1   59.620097   \n",
      "25       sgd    100          0.001            5         50   91.738480   \n",
      "26       sgd    100          0.001           10          1   65.554629   \n",
      "27       sgd    100          0.001           10         50   92.268268   \n",
      "28       sgd    100          0.010            5          1   79.203293   \n",
      "29       sgd    100          0.010            5         50   67.599260   \n",
      "30       sgd    100          0.010           10          1   81.790398   \n",
      "31       sgd    100          0.010           10         50   61.381254   \n",
      "\n",
      "     RMSE Test  \n",
      "0   241.449344  \n",
      "1   244.778509  \n",
      "2   241.563670  \n",
      "3   245.164266  \n",
      "4   215.473207  \n",
      "5   245.153845  \n",
      "6   215.074977  \n",
      "7   244.992925  \n",
      "8   215.312903  \n",
      "9   244.946686  \n",
      "10  215.226428  \n",
      "11  244.821860  \n",
      "12  185.147091  \n",
      "13  243.843640  \n",
      "14  177.933052  \n",
      "15  243.941395  \n",
      "16  155.869854  \n",
      "17  222.909183  \n",
      "18  172.339036  \n",
      "19  225.301876  \n",
      "20  173.598300  \n",
      "21  178.701682  \n",
      "22  158.601137  \n",
      "23  183.388506  \n",
      "24  200.214505  \n",
      "25  186.291664  \n",
      "26  143.190853  \n",
      "27  188.643640  \n",
      "28  190.759275  \n",
      "29  180.157444  \n",
      "30  181.572731  \n",
      "31  180.585059  \n",
      "\n",
      "\n",
      "--- 40/40 points. run_parameters terminates.\n",
      "\n",
      "--- 20/20 points. results.shape is correct.\n",
      "\n",
      "--- 10/10 points. results column names is correct.\n",
      "\n",
      "--- 10/10 points. Values in results Algorithm column correct.\n",
      "\n",
      "--- 10/10 points. Number of epochs for lowest RMSE Train is correct.\n",
      "\n",
      "C:\\Users\\allth\\Desktop\\CS445\\A2 Execution Grade is 90 / 90\n",
      "\n",
      " Remaining 10 points will be based on your text descriptions of results and plots.\n",
      "\n",
      "C:\\Users\\allth\\Desktop\\CS445\\A2 FINAL GRADE is   / 100\n",
      "\n",
      "C:\\Users\\allth\\Desktop\\CS445\\A2 EXTRA CREDIT is   / 1\n"
     ]
    },
    {
     "data": {
      "text/plain": [
       "<Figure size 432x288 with 0 Axes>"
      ]
     },
     "metadata": {},
     "output_type": "display_data"
    }
   ],
   "source": [
    "%run -i A2grader.py"
   ]
  },
  {
   "cell_type": "markdown",
   "metadata": {},
   "source": [
    "# Extra Credit\n",
    "\n",
    "Repeat the evaluation of parameter values for another data set of your choice."
   ]
  }
 ],
 "metadata": {
  "anaconda-cloud": {},
  "kernelspec": {
   "display_name": "Python 3",
   "language": "python",
   "name": "python3"
  },
  "language_info": {
   "codemirror_mode": {
    "name": "ipython",
    "version": 3
   },
   "file_extension": ".py",
   "mimetype": "text/x-python",
   "name": "python",
   "nbconvert_exporter": "python",
   "pygments_lexer": "ipython3",
   "version": "3.7.1"
  }
 },
 "nbformat": 4,
 "nbformat_minor": 1
}
