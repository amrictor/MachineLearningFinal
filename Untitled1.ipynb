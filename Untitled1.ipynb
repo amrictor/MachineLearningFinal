{
 "cells": [
  {
   "cell_type": "code",
   "execution_count": 19,
   "metadata": {},
   "outputs": [
    {
     "data": {
      "text/plain": [
       "13958941"
      ]
     },
     "execution_count": 19,
     "metadata": {},
     "output_type": "execute_result"
    }
   ],
   "source": [
    "import os\n",
    "import subprocess\n",
    "\n",
    "pydir = subprocess.check_output(['where', 'python'])\n",
    "f = open(\"rnn_20_epoch.net\", \"rb\")\n",
    "string = bytes(f.read())\n",
    "string = string.replace(b'C:\\Users\\Abby\\Desktop\\CS445', bytes(os.getcwd(),'utf-8'))\n",
    "sting = string.replace(b'C:\\Users\\Abby\\Anaconda3', pydir)\n",
    "w = open(\"test_20.net\", \"wb\")\n",
    "w.write(string)\n"
   ]
  },
  {
   "cell_type": "code",
   "execution_count": 3,
   "metadata": {},
   "outputs": [
    {
     "name": "stdout",
     "output_type": "stream",
     "text": [
      "C:\\Users\\Abby\\Anaconda3\\python.exe\n"
     ]
    }
   ],
   "source": [
    "!where python"
   ]
  },
  {
   "cell_type": "code",
   "execution_count": null,
   "metadata": {},
   "outputs": [],
   "source": []
  }
 ],
 "metadata": {
  "kernelspec": {
   "display_name": "Python 3",
   "language": "python",
   "name": "python3"
  },
  "language_info": {
   "codemirror_mode": {
    "name": "ipython",
    "version": 3
   },
   "file_extension": ".py",
   "mimetype": "text/x-python",
   "name": "python",
   "nbconvert_exporter": "python",
   "pygments_lexer": "ipython3",
   "version": "3.7.1"
  }
 },
 "nbformat": 4,
 "nbformat_minor": 2
}
